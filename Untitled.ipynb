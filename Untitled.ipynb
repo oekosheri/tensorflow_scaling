{
 "cells": [
  {
   "cell_type": "code",
   "execution_count": 4,
   "id": "0b53f9b8-96d9-4010-a7a1-89b8701bbab5",
   "metadata": {},
   "outputs": [],
   "source": [
    "import sys\n",
    "impor__version__sorflow as tf"
   ]
  },
  {
   "cell_type": "code",
   "execution_count": 5,
   "id": "57c8d2d5-f72e-4087-a220-f556b3072035",
   "metadata": {},
   "outputs": [
    {
     "data": {
      "text/plain": [
       "('3.9.13 | packaged by conda-forge | (main, May 27 2022, 16:56:21) \\n[GCC 10.3.0]',\n",
       " '2.9.1')"
      ]
     },
     "execution_count": 5,
     "metadata": {},
     "output_type": "execute_result"
    }
   ],
   "source": [
    "sys.version, tf.__version__"
   ]
  },
  {
   "cell_type": "code",
   "execution_count": 6,
   "id": "e230570e-bde7-405b-8896-af935fb57964",
   "metadata": {},
   "outputs": [
    {
     "name": "stdout",
     "output_type": "stream",
     "text": [
      "# conda environments:\n",
      "#\n",
      "base                     /cvmfs/sys.hpc.itc.rwth-aachen.de/jupyter/clients/conda-installer/conda\n",
      "                         /home/hd242061/anaconda3\n",
      "                         /home/hd242061/anaconda3/envs/tensor29\n",
      "                         /home/hd242061/anaconda3/envs/tensor_new\n",
      "                         /home/hd242061/anaconda3/envs/tensor_with_cuda\n",
      "                         /home/hd242061/anaconda3/envs/tensorflow\n",
      "                         /home/hd242061/anaconda3/envs/tensorflow-opencv2\n",
      "                         /home/hd242061/anaconda3/envs/tensorflow2\n",
      "                         /home/hd242061/anaconda3/envs/torch11\n",
      "                         /home/hd242061/anaconda3/envs/torchw\n",
      "                         /work/hd242061/IMM_jupyterlab/env\n",
      "\n"
     ]
    }
   ],
   "source": [
    "!conda env list\n"
   ]
  },
  {
   "cell_type": "code",
   "execution_count": 10,
   "id": "500ece1d-e257-4e93-bbaf-6f385e6ab3f2",
   "metadata": {},
   "outputs": [],
   "source": [
    "import matplotlib.pyplot as plt"
   ]
  },
  {
   "cell_type": "code",
   "execution_count": null,
   "id": "53d4f2b9-f5e6-45ce-a57c-225be17392a5",
   "metadata": {},
   "outputs": [],
   "source": []
  }
 ],
 "metadata": {
  "kernelspec": {
   "display_name": "Python 3 (ipykernel)",
   "language": "python",
   "name": "python3"
  },
  "language_info": {
   "codemirror_mode": {
    "name": "ipython",
    "version": 3
   },
   "file_extension": ".py",
   "mimetype": "text/x-python",
   "name": "python",
   "nbconvert_exporter": "python",
   "pygments_lexer": "ipython3",
   "version": "3.9.13"
  }
 },
 "nbformat": 4,
 "nbformat_minor": 5
}
